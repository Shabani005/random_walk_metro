{
 "cells": [
  {
   "cell_type": "markdown",
   "metadata": {},
   "source": [
    "The first step should be importing the needed packages and defining the function f(x) and our initial parameters "
   ]
  },
  {
   "cell_type": "code",
   "execution_count": 78,
   "metadata": {},
   "outputs": [],
   "source": [
    "import numpy as np\n",
    "import pandas as pd\n",
    "from numpy import random\n",
    "import scipy\n",
    "\n",
    "def func(inp):\n",
    "    return 0.5*np.exp(-np.abs(inp))\n",
    "\n",
    "\n",
    "    \n"
   ]
  },
  {
   "cell_type": "code",
   "execution_count": 79,
   "metadata": {},
   "outputs": [],
   "source": [
    "def metropolis_hasting(x_0, N=10000, s=5):\n",
    "    x_values = [x_0]\n",
    "    for i in range(1,N):\n",
    "        xi_minus1 = x_values[-1]\n",
    "        x_star = random.normal(scale=s, loc=xi_minus1)\n",
    "        r = func(x_star)/func(xi_minus1)\n",
    "        u = random.uniform(0,1)\n",
    "\n",
    "        if u < r:\n",
    "            x_values.append(x_star)\n",
    "        else:\n",
    "            x_values.append(xi_minus1)\n",
    "        \n",
    "    return x_values            \n",
    "\n",
    "         "
   ]
  },
  {
   "cell_type": "code",
   "execution_count": 80,
   "metadata": {},
   "outputs": [
    {
     "data": {
      "text/plain": [
       "[0,\n",
       " 0,\n",
       " 0,\n",
       " 0.8212440639768005,\n",
       " 0.8212440639768005,\n",
       " 0.8212440639768005,\n",
       " 0.8212440639768005,\n",
       " 0.8212440639768005,\n",
       " 0.8212440639768005]"
      ]
     },
     "execution_count": 80,
     "metadata": {},
     "output_type": "execute_result"
    }
   ],
   "source": [
    "x_values = metropolis_hasting(x_0=0)   \n",
    "x_values[1:10]"
   ]
  },
  {
   "cell_type": "markdown",
   "metadata": {},
   "source": [
    "Now for the second part, we introduce chains."
   ]
  },
  {
   "cell_type": "code",
   "execution_count": 81,
   "metadata": {},
   "outputs": [
    {
     "name": "stdout",
     "output_type": "stream",
     "text": [
      "mean: -0.019518168770717194\n",
      "Variance: 1.8403029538465245\n"
     ]
    }
   ],
   "source": [
    "def mean(N=10000):\n",
    "    return 1/N*sum(x_values)\n",
    "\n",
    "print(\"mean:\", mean())\n",
    "\n",
    "def variance(N= 10000):\n",
    "    mu = mean()  \n",
    "    squared_diff = [(x - mu) ** 2 for x in x_values]  # Squared differences\n",
    "    return 1/N*sum(squared_diff)\n",
    "\n",
    "print(\"Variance:\", variance())"
   ]
  },
  {
   "cell_type": "code",
   "execution_count": 113,
   "metadata": {},
   "outputs": [
    {
     "name": "stdout",
     "output_type": "stream",
     "text": [
      "[1, 1, 1, 1, 1, 0.9389802198608012, 0.9389802198608012, -0.3798589076615634, 2.0586863853285338]\n",
      "[2, 2, 2, 2, 2, -3.432583317870386, -3.432583317870386, -3.432583317870386, 0.9917152306067294]\n",
      "[3, 3.661609323266347, -2.2934242310786037, -2.356450402618066, -2.356450402618066, -2.356450402618066, -2.356450402618066, 2.398648000338367, 2.398648000338367]\n",
      "[3.6804646483491026, 3.6804646483491026, 1.0593861186162692, 1.0593861186162692, 1.0593861186162692, 1.0593861186162692, 0.6495208559308769, 0.6983243573308595, 0.6983243573308595]\n"
     ]
    }
   ],
   "source": [
    "def multi_metropolis_hasting(J, x_0=0, N=2000, s=5):\n",
    "    multi = []\n",
    "    for i in range(J):\n",
    "        chain_result = metropolis_hasting(x_0 + i, N, s)\n",
    "        multi.append(chain_result)\n",
    "    return multi\n",
    "\n",
    "chains = multi_metropolis_hasting(J=5)\n",
    "\n",
    "for i in range(1,5):\n",
    "    print(chains[i][1:10])\n"
   ]
  },
  {
   "cell_type": "code",
   "execution_count": 114,
   "metadata": {},
   "outputs": [
    {
     "name": "stdout",
     "output_type": "stream",
     "text": [
      "mean 1: 0.0031272281060742628\n",
      "mean 2: 0.00791626999570815\n",
      "mean 3: -0.0038980971109856734\n",
      "mean 4: 0.011817627994997025\n",
      "mean 5: 0.014294596826381397\n",
      "total mean: 0.006651525162435032\n",
      "\n",
      "Variance 1: 2.361598527145384\n",
      "Variance 2: 1.584685954400375\n",
      "Variance 3: 2.151291469784044\n",
      "Variance 4: 1.8796217914978604\n",
      "Overall variance: 1.994299435706916\n"
     ]
    }
   ],
   "source": [
    "def overall_mean(J,chains, N=10000):\n",
    "    means = []\n",
    "    for i in range(J):\n",
    "        individual_mean = 1/N*sum(chains[i])\n",
    "        means.append(individual_mean)\n",
    "        print(f\"mean {i+1}: {individual_mean}\")\n",
    "    print(f\"total mean: {sum(means)/J}\\n\")\n",
    "\n",
    "overall_mean(J=5, chains=chains)\n",
    "\n",
    "\n",
    "def overall_variance(J, chains, N=10000):\n",
    "    variances = []\n",
    "    \n",
    "\n",
    "    for i in range(J):\n",
    "        chain_mean = 1 / N * sum(chains[i])  \n",
    "        squared_diff = [(x - chain_mean) ** 2 for x in chains[i]]  \n",
    "        chain_variance = sum(squared_diff) / N  \n",
    "        variances.append(chain_variance)\n",
    "        print(f\"Variance {i+1}: {chain_variance}\")\n",
    "    \n",
    "    total_variance = sum(variances) / J\n",
    "    print(f\"Overall variance: {total_variance}\")\n",
    "\n",
    "\n",
    "overall_variance(J=4, chains=chains, N=2000)  \n",
    "   "
   ]
  }
 ],
 "metadata": {
  "kernelspec": {
   "display_name": "Python 3",
   "language": "python",
   "name": "python3"
  },
  "language_info": {
   "codemirror_mode": {
    "name": "ipython",
    "version": 3
   },
   "file_extension": ".py",
   "mimetype": "text/x-python",
   "name": "python",
   "nbconvert_exporter": "python",
   "pygments_lexer": "ipython3",
   "version": "3.13.1"
  }
 },
 "nbformat": 4,
 "nbformat_minor": 2
}
