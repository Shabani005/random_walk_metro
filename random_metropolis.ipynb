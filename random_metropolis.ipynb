{
 "cells": [
  {
   "cell_type": "markdown",
   "metadata": {},
   "source": [
    "The first step should be importing the needed packages and defining the function f(x) and our initial parameters "
   ]
  },
  {
   "cell_type": "code",
   "execution_count": 3,
   "metadata": {},
   "outputs": [
    {
     "name": "stdout",
     "output_type": "stream",
     "text": [
      "Requirement already satisfied: pandas in e:\\random_walk_metropolis\\.venv\\lib\\site-packages (2.2.3)\n",
      "Requirement already satisfied: numpy>=1.26.0 in e:\\random_walk_metropolis\\.venv\\lib\\site-packages (from pandas) (2.2.3)\n",
      "Requirement already satisfied: python-dateutil>=2.8.2 in e:\\random_walk_metropolis\\.venv\\lib\\site-packages (from pandas) (2.9.0.post0)\n",
      "Requirement already satisfied: pytz>=2020.1 in e:\\random_walk_metropolis\\.venv\\lib\\site-packages (from pandas) (2025.1)\n",
      "Requirement already satisfied: tzdata>=2022.7 in e:\\random_walk_metropolis\\.venv\\lib\\site-packages (from pandas) (2025.1)\n",
      "Requirement already satisfied: six>=1.5 in e:\\random_walk_metropolis\\.venv\\lib\\site-packages (from python-dateutil>=2.8.2->pandas) (1.17.0)\n",
      "Collecting scipy\n",
      "  Using cached scipy-1.15.1-cp312-cp312-win_amd64.whl.metadata (60 kB)\n",
      "Requirement already satisfied: numpy<2.5,>=1.23.5 in e:\\random_walk_metropolis\\.venv\\lib\\site-packages (from scipy) (2.2.3)\n",
      "Using cached scipy-1.15.1-cp312-cp312-win_amd64.whl (43.6 MB)\n",
      "Installing collected packages: scipy\n",
      "Successfully installed scipy-1.15.1\n",
      "Requirement already satisfied: numpy in e:\\random_walk_metropolis\\.venv\\lib\\site-packages (2.2.3)\n"
     ]
    }
   ],
   "source": [
    "!pip install pandas\n",
    "!pip install scipy\n",
    "!pip install numpy\n"
   ]
  },
  {
   "cell_type": "code",
   "execution_count": 4,
   "metadata": {},
   "outputs": [],
   "source": [
    "import numpy as np\n",
    "import pandas as pd\n",
    "from numpy import random\n",
    "import scipy\n",
    "\n",
    "def func(inp):\n",
    "    return 0.5*np.exp(-np.abs(inp))\n",
    "\n",
    "\n",
    "    \n"
   ]
  },
  {
   "cell_type": "code",
   "execution_count": 5,
   "metadata": {},
   "outputs": [],
   "source": [
    "def metropolis_hasting(x_0, N=10000, s=5):\n",
    "    x_values = [x_0]\n",
    "    for i in range(1,N):\n",
    "        xi_minus1 = x_values[-1]\n",
    "        x_star = random.normal(scale=s, loc=xi_minus1)\n",
    "        r = func(x_star)/func(xi_minus1)\n",
    "        u = random.uniform(0,1)\n",
    "\n",
    "        if u < r:\n",
    "            x_values.append(x_star)\n",
    "        else:\n",
    "            x_values.append(xi_minus1)\n",
    "        \n",
    "    return x_values            \n",
    "\n",
    "         "
   ]
  },
  {
   "cell_type": "code",
   "execution_count": 7,
   "metadata": {},
   "outputs": [
    {
     "data": {
      "text/plain": [
       "[0,\n",
       " 0,\n",
       " 0,\n",
       " 0,\n",
       " 0,\n",
       " 0.6646844001059483,\n",
       " 0.6646844001059483,\n",
       " 3.2059662966108426,\n",
       " 3.4386250375027076]"
      ]
     },
     "execution_count": 7,
     "metadata": {},
     "output_type": "execute_result"
    }
   ],
   "source": [
    "x_values = metropolis_hasting(x_0=0)   \n",
    "x_values[1:10]"
   ]
  },
  {
   "cell_type": "markdown",
   "metadata": {},
   "source": [
    "Now for the second part, we introduce chains."
   ]
  },
  {
   "cell_type": "code",
   "execution_count": 8,
   "metadata": {},
   "outputs": [
    {
     "name": "stdout",
     "output_type": "stream",
     "text": [
      "mean: -0.030168498657787726\n",
      "Variance: 1.938138717291562\n"
     ]
    }
   ],
   "source": [
    "def mean(N=10000):\n",
    "    return 1/N*sum(x_values)\n",
    "\n",
    "print(\"mean:\", mean())\n",
    "\n",
    "def variance(N= 10000):\n",
    "    mu = mean()  \n",
    "    squared_diff = [(x - mu) ** 2 for x in x_values]  # Squared differences\n",
    "    return 1/N*sum(squared_diff)\n",
    "\n",
    "print(\"Variance:\", variance())"
   ]
  },
  {
   "cell_type": "code",
   "execution_count": 9,
   "metadata": {},
   "outputs": [
    {
     "name": "stdout",
     "output_type": "stream",
     "text": [
      "[1, 1, 1.0501875850731293, 1.0501875850731293, 1.0501875850731293, 1.0501875850731293, 1.0501875850731293, 1.0501875850731293, 1.0501875850731293]\n",
      "[2, 2.0506849492769756, 2.0506849492769756, 2.0506849492769756, 2.0506849492769756, 2.0506849492769756, 1.1490920743680917, 1.1490920743680917, -0.3287370587503462]\n",
      "[3, 2.420447173105014, 2.420447173105014, 2.420447173105014, 2.420447173105014, 2.420447173105014, 2.420447173105014, 2.420447173105014, 2.2215373257091993]\n",
      "[4, 4, 2.7192749224305937, 2.7192749224305937, 0.5704697026892833, 0.5704697026892833, 0.5704697026892833, 0.5704697026892833, 0.5704697026892833]\n"
     ]
    }
   ],
   "source": [
    "def multi_metropolis_hasting(J, x_0=0, N=2000, s=5):\n",
    "    multi = []\n",
    "    for i in range(J):\n",
    "        chain_result = metropolis_hasting(x_0 + i, N, s)\n",
    "        multi.append(chain_result)\n",
    "    return multi\n",
    "\n",
    "chains = multi_metropolis_hasting(J=5)\n",
    "\n",
    "for i in range(1,5):\n",
    "    print(chains[i][1:10])\n"
   ]
  },
  {
   "cell_type": "code",
   "execution_count": 10,
   "metadata": {},
   "outputs": [
    {
     "name": "stdout",
     "output_type": "stream",
     "text": [
      "mean 1: 0.017419074795600682\n",
      "mean 2: -0.012855859156011095\n",
      "mean 3: -0.017637946850923198\n",
      "mean 4: -0.014944780114016993\n",
      "mean 5: 0.003837584531938773\n",
      "total mean: -0.004836385358682366\n",
      "\n",
      "Variance 1: 1.751129593957545\n",
      "Variance 2: 2.0936268031764085\n",
      "Variance 3: 1.844733195834732\n",
      "Variance 4: 2.1697769434423484\n",
      "Overall variance: 1.9648166341027584\n"
     ]
    }
   ],
   "source": [
    "def overall_mean(J,chains, N=10000):\n",
    "    means = []\n",
    "    for i in range(J):\n",
    "        individual_mean = 1/N*sum(chains[i])\n",
    "        means.append(individual_mean)\n",
    "        print(f\"mean {i+1}: {individual_mean}\")\n",
    "    print(f\"total mean: {sum(means)/J}\\n\")\n",
    "\n",
    "overall_mean(J=5, chains=chains)\n",
    "\n",
    "\n",
    "def overall_variance(J, chains, N=10000):\n",
    "    variances = []\n",
    "    \n",
    "\n",
    "    for i in range(J):\n",
    "        chain_mean = 1 / N * sum(chains[i])  \n",
    "        squared_diff = [(x - chain_mean) ** 2 for x in chains[i]]  \n",
    "        chain_variance = sum(squared_diff) / N  \n",
    "        variances.append(chain_variance)\n",
    "        print(f\"Variance {i+1}: {chain_variance}\")\n",
    "    \n",
    "    total_variance = sum(variances) / J\n",
    "    print(f\"Overall variance: {total_variance}\")\n",
    "\n",
    "\n",
    "overall_variance(J=4, chains=chains, N=2000)  \n",
    "   "
   ]
  }
 ],
 "metadata": {
  "kernelspec": {
   "display_name": ".venv",
   "language": "python",
   "name": "python3"
  },
  "language_info": {
   "codemirror_mode": {
    "name": "ipython",
    "version": 3
   },
   "file_extension": ".py",
   "mimetype": "text/x-python",
   "name": "python",
   "nbconvert_exporter": "python",
   "pygments_lexer": "ipython3",
   "version": "3.12.8"
  }
 },
 "nbformat": 4,
 "nbformat_minor": 2
}
